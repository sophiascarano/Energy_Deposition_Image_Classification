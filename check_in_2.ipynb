{
 "cells": [
  {
   "cell_type": "markdown",
   "metadata": {},
   "source": [
    "# Overview\n",
    "In this section you will update us on your project, including the project you have chosen, your problem statement, an extensive outline of EDA and modeling to date, the goal of your predictive model, and the data you will use to explore that model.\n",
    "\n",
    "This notebook:\n",
    "- Identifies which of the three proposals you outlined in your lightning talk you have chosen\n",
    "- Articulates the main goal of your project (your problem statement)\n",
    "- Outlines your proposed methods and models\n",
    "- Defines the risks & assumptions of your data\n",
    "- Revises initial goals & success criteria, as needed\n",
    "- Documents your data source\n",
    "- Performs & summarizes preliminary EDA of your data"
   ]
  },
  {
   "cell_type": "markdown",
   "metadata": {},
   "source": [
    "# Problem Statement\n",
    "#### Guidelines:\n",
    "- Specific:\n",
    "    - What precisely do you plan to do?\n",
    "    - What type of model will you need to develop?\n",
    "- Measurable:\n",
    "    - What metrics will you be using to assess performance?\n",
    "    - MSE? Accuracy? Precision? AUC?\n",
    "- Achievable:\n",
    "    - Is your project appropriately scoped?\n",
    "    - Is it too aggressive? Too easy?\n",
    "    - Note: If your project is too big, break it up into smaller pieces. Sometimes a good project is the simply one part of a larger, longer-term agenda.\n",
    "- Relevant:\n",
    "    - Does anyone care about this?\n",
    "    - Why should people be interested in your results?\n",
    "    - What value will the completion of your project be adding?\n",
    "- Time-bound\n",
    "    - What's your deadline?\n",
    " "
   ]
  },
  {
   "cell_type": "markdown",
   "metadata": {},
   "source": [
    "### My Statement:\n",
    "\n",
    "I plan to compare the results of using a convolutional neural network and using a capsule network to classify energy deposition images of five particle types using data provided in Deep Learn Physics http://deeplearnphysics.org/DataChallenge/. I will use model accuracy to assess performance. If I find that investigating the capsule network is too difficult, I will stick with a convolutional neural network, and will do the capsule network on my own after the course ends. One of the most enticing aspects with using this data is that the Deep Learn Physics group has proposed a challenge where I can contact them to share my result, and be a part of an informal competition. I understand that this data is from 2017, but even if the challenge has ended, it’s still interesting data and heavily connects with my physics background. \n",
    "\n",
    "### Why capsule networks?\n",
    "\n",
    "Why not just convolutional neural networks? \n",
    "- Here, we have data of particle trajectories\n",
    "- These trajectories could be coming in at an infinite number of angles to the dataset\n",
    "    - These trajectories are in a voxelized 3D data in a 2D format.\n",
    "    - In 3D computer graphics, a voxel represents a value on a regular grid in three-dimensional space. The word voxel originated analogously to the word \"pixel\", with vo representing \"volume\" and el representing \"element\"; similar formations with el for \"element\" include the words \"pixel\" and \"texel\" \n",
    "- A convolutional neural network needs to be trained explicitly on all possible combinations of training images so that it learns on all of them.\n",
    "    - Yes, Image Augmentation exists (which modifies, rotates, inverts, etc. the data) to generate every possible combination, but is very computationally expensive.\n",
    "    - CNNs can handle translational invariance but cannot handle rotational invariance (source: https://analyticsindiamag.com/why-do-capsule-networks-work-better-than-convolutional-neural-networks/)\n",
    "- MaxPooling does not provide 'ViewPoint invariance': the ability to make the model invariant to changes in viewpoint\n",
    "\n",
    "Why capsule networks?\n",
    "- Use Dynamic routing in place of max pooling layer in CNN:\n",
    "    - Outperforms CNNs when it comes to problems of viewpoint invariance\n",
    "    - could be useful for different incoming particle trajectories\n",
    "- Use 'heirarchy of parts' method\n",
    "    - Could have each of these five trajectory types be classified as a 'part'"
   ]
  },
  {
   "cell_type": "code",
   "execution_count": null,
   "metadata": {},
   "outputs": [],
   "source": []
  }
 ],
 "metadata": {
  "kernelspec": {
   "display_name": "Python 3",
   "language": "python",
   "name": "python3"
  },
  "language_info": {
   "codemirror_mode": {
    "name": "ipython",
    "version": 3
   },
   "file_extension": ".py",
   "mimetype": "text/x-python",
   "name": "python",
   "nbconvert_exporter": "python",
   "pygments_lexer": "ipython3",
   "version": "3.8.3"
  }
 },
 "nbformat": 4,
 "nbformat_minor": 4
}
